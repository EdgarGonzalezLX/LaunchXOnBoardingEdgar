{
 "cells": [
  {
   "cell_type": "markdown",
   "metadata": {},
   "source": [
    "# Launch X\n",
    "\n",
    "Edgar Gonzalez Gonzalez\n",
    "\n",
    "Kata 10"
   ]
  },
  {
   "cell_type": "markdown",
   "metadata": {},
   "source": [
    "Abrir documento inexistente:"
   ]
  },
  {
   "cell_type": "code",
   "execution_count": 3,
   "metadata": {},
   "outputs": [],
   "source": [
    "# Creo archivo \"katax.py\"\n",
    "\n",
    "def main():\n",
    "    try:\n",
    "        open('config.txt')\n",
    "    except FileNotFoundError:\n",
    "        print(\"Couldn't find the config.txt file!\")\n",
    "if __name__ == '__main__':\n",
    "    main()"
   ]
  },
  {
   "cell_type": "code",
   "execution_count": null,
   "metadata": {},
   "outputs": [],
   "source": [
    "# Codigo de error al abrir archivo \"katax.py\"\n",
    "\n",
    "$ python3 open.py\n",
    "Traceback (most recent call last):\n",
    "  File \"/tmp/katax.py\", line 5, in <module>\n",
    "    main()\n",
    "  File \"/tmp/katax.py\", line 2, in main\n",
    "    open(\"/path/to/mars.jpg\")\n",
    "FileNotFoundError: [Errno 2] No such file or directory: '/path/to/mars.jpg'"
   ]
  }
 ],
 "metadata": {
  "interpreter": {
   "hash": "0d4dce33586591096826e47398391fca810436f18bc00ada0def34143b71c24c"
  },
  "kernelspec": {
   "display_name": "Python 3.10.2 64-bit",
   "language": "python",
   "name": "python3"
  },
  "language_info": {
   "codemirror_mode": {
    "name": "ipython",
    "version": 3
   },
   "file_extension": ".py",
   "mimetype": "text/x-python",
   "name": "python",
   "nbconvert_exporter": "python",
   "pygments_lexer": "ipython3",
   "version": "3.10.2"
  },
  "orig_nbformat": 4
 },
 "nbformat": 4,
 "nbformat_minor": 2
}
